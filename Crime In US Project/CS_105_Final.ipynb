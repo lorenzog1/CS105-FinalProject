{
 "cells": [
  {
   "cell_type": "markdown",
   "id": "4e5b0bcf",
   "metadata": {},
   "source": [
    "# Crime In The US\n",
    "Team 7: Lorenzo Gonzalez, Daisy Cheng, Ricardo Lira, Briana Ortega Vazquez\n",
    "\n",
    "Here we start by reading in our clean datasets in which we renamed some colums and filled in some missing data values.\n",
    "We display the first five rows of the datasets to make sure they are reading in correctly"
   ]
  },
  {
   "cell_type": "code",
   "execution_count": 1,
   "id": "3cf9c29e",
   "metadata": {},
   "outputs": [
    {
     "data": {
      "text/html": [
       "<div>\n",
       "<style scoped>\n",
       "    .dataframe tbody tr th:only-of-type {\n",
       "        vertical-align: middle;\n",
       "    }\n",
       "\n",
       "    .dataframe tbody tr th {\n",
       "        vertical-align: top;\n",
       "    }\n",
       "\n",
       "    .dataframe thead th {\n",
       "        text-align: right;\n",
       "    }\n",
       "</style>\n",
       "<table border=\"1\" class=\"dataframe\">\n",
       "  <thead>\n",
       "    <tr style=\"text-align: right;\">\n",
       "      <th></th>\n",
       "      <th>Offense charged</th>\n",
       "      <th>Total</th>\n",
       "      <th>under_15</th>\n",
       "      <th>under_18</th>\n",
       "      <th>over_18</th>\n",
       "      <th>Under_10</th>\n",
       "      <th>10-12</th>\n",
       "      <th>13-14</th>\n",
       "      <th>15</th>\n",
       "      <th>16</th>\n",
       "      <th>...</th>\n",
       "      <th>24</th>\n",
       "      <th>25-29</th>\n",
       "      <th>30-34</th>\n",
       "      <th>35-39</th>\n",
       "      <th>40-44</th>\n",
       "      <th>45-49</th>\n",
       "      <th>50-54</th>\n",
       "      <th>55-59</th>\n",
       "      <th>60-64</th>\n",
       "      <th>65+</th>\n",
       "    </tr>\n",
       "  </thead>\n",
       "  <tbody>\n",
       "    <tr>\n",
       "      <th>0</th>\n",
       "      <td>Murder and nonnegligent manslaughter</td>\n",
       "      <td>9,427</td>\n",
       "      <td>60</td>\n",
       "      <td>682</td>\n",
       "      <td>8,745</td>\n",
       "      <td>0</td>\n",
       "      <td>5</td>\n",
       "      <td>55</td>\n",
       "      <td>93</td>\n",
       "      <td>198</td>\n",
       "      <td>...</td>\n",
       "      <td>469</td>\n",
       "      <td>1,745</td>\n",
       "      <td>1,152</td>\n",
       "      <td>788</td>\n",
       "      <td>515</td>\n",
       "      <td>412</td>\n",
       "      <td>323</td>\n",
       "      <td>195</td>\n",
       "      <td>136</td>\n",
       "      <td>128</td>\n",
       "    </tr>\n",
       "    <tr>\n",
       "      <th>1</th>\n",
       "      <td>Rape2</td>\n",
       "      <td>18,802</td>\n",
       "      <td>1,190</td>\n",
       "      <td>2,952</td>\n",
       "      <td>15,850</td>\n",
       "      <td>30</td>\n",
       "      <td>331</td>\n",
       "      <td>829</td>\n",
       "      <td>514</td>\n",
       "      <td>561</td>\n",
       "      <td>...</td>\n",
       "      <td>532</td>\n",
       "      <td>2,360</td>\n",
       "      <td>2,266</td>\n",
       "      <td>1,907</td>\n",
       "      <td>1,409</td>\n",
       "      <td>1,187</td>\n",
       "      <td>886</td>\n",
       "      <td>586</td>\n",
       "      <td>369</td>\n",
       "      <td>372</td>\n",
       "    </tr>\n",
       "    <tr>\n",
       "      <th>2</th>\n",
       "      <td>Robbery</td>\n",
       "      <td>76,503</td>\n",
       "      <td>2,898</td>\n",
       "      <td>15,339</td>\n",
       "      <td>61,164</td>\n",
       "      <td>20</td>\n",
       "      <td>368</td>\n",
       "      <td>2,510</td>\n",
       "      <td>3,123</td>\n",
       "      <td>4,367</td>\n",
       "      <td>...</td>\n",
       "      <td>3,044</td>\n",
       "      <td>11,787</td>\n",
       "      <td>7,911</td>\n",
       "      <td>5,229</td>\n",
       "      <td>3,158</td>\n",
       "      <td>2,585</td>\n",
       "      <td>1,911</td>\n",
       "      <td>984</td>\n",
       "      <td>325</td>\n",
       "      <td>150</td>\n",
       "    </tr>\n",
       "    <tr>\n",
       "      <th>3</th>\n",
       "      <td>Aggravated assault</td>\n",
       "      <td>305,985</td>\n",
       "      <td>7,158</td>\n",
       "      <td>22,362</td>\n",
       "      <td>283,623</td>\n",
       "      <td>148</td>\n",
       "      <td>1,839</td>\n",
       "      <td>5,171</td>\n",
       "      <td>4,130</td>\n",
       "      <td>5,049</td>\n",
       "      <td>...</td>\n",
       "      <td>11,345</td>\n",
       "      <td>53,322</td>\n",
       "      <td>44,445</td>\n",
       "      <td>35,037</td>\n",
       "      <td>24,412</td>\n",
       "      <td>20,872</td>\n",
       "      <td>17,108</td>\n",
       "      <td>11,251</td>\n",
       "      <td>5,399</td>\n",
       "      <td>4,373</td>\n",
       "    </tr>\n",
       "    <tr>\n",
       "      <th>4</th>\n",
       "      <td>Burglary</td>\n",
       "      <td>165,376</td>\n",
       "      <td>7,646</td>\n",
       "      <td>25,513</td>\n",
       "      <td>139,863</td>\n",
       "      <td>193</td>\n",
       "      <td>1,596</td>\n",
       "      <td>5,857</td>\n",
       "      <td>5,243</td>\n",
       "      <td>6,117</td>\n",
       "      <td>...</td>\n",
       "      <td>5,952</td>\n",
       "      <td>27,290</td>\n",
       "      <td>21,721</td>\n",
       "      <td>15,852</td>\n",
       "      <td>9,789</td>\n",
       "      <td>8,327</td>\n",
       "      <td>6,110</td>\n",
       "      <td>3,448</td>\n",
       "      <td>1,360</td>\n",
       "      <td>704</td>\n",
       "    </tr>\n",
       "  </tbody>\n",
       "</table>\n",
       "<p>5 rows × 27 columns</p>\n",
       "</div>"
      ],
      "text/plain": [
       "                        Offense charged    Total under_15 under_18  over_18  \\\n",
       "0  Murder and nonnegligent manslaughter    9,427       60      682    8,745   \n",
       "1                                 Rape2   18,802    1,190    2,952   15,850   \n",
       "2                               Robbery   76,503    2,898   15,339   61,164   \n",
       "3                    Aggravated assault  305,985    7,158   22,362  283,623   \n",
       "4                              Burglary  165,376    7,646   25,513  139,863   \n",
       "\n",
       "  Under_10  10-12  13-14     15     16  ...      24   25-29   30-34   35-39  \\\n",
       "0        0      5     55     93    198  ...     469   1,745   1,152     788   \n",
       "1       30    331    829    514    561  ...     532   2,360   2,266   1,907   \n",
       "2       20    368  2,510  3,123  4,367  ...   3,044  11,787   7,911   5,229   \n",
       "3      148  1,839  5,171  4,130  5,049  ...  11,345  53,322  44,445  35,037   \n",
       "4      193  1,596  5,857  5,243  6,117  ...   5,952  27,290  21,721  15,852   \n",
       "\n",
       "    40-44   45-49   50-54   55-59  60-64    65+  \n",
       "0     515     412     323     195    136    128  \n",
       "1   1,409   1,187     886     586    369    372  \n",
       "2   3,158   2,585   1,911     984    325    150  \n",
       "3  24,412  20,872  17,108  11,251  5,399  4,373  \n",
       "4   9,789   8,327   6,110   3,448  1,360    704  \n",
       "\n",
       "[5 rows x 27 columns]"
      ]
     },
     "metadata": {},
     "output_type": "display_data"
    },
    {
     "data": {
      "text/html": [
       "<div>\n",
       "<style scoped>\n",
       "    .dataframe tbody tr th:only-of-type {\n",
       "        vertical-align: middle;\n",
       "    }\n",
       "\n",
       "    .dataframe tbody tr th {\n",
       "        vertical-align: top;\n",
       "    }\n",
       "\n",
       "    .dataframe thead th {\n",
       "        text-align: right;\n",
       "    }\n",
       "</style>\n",
       "<table border=\"1\" class=\"dataframe\">\n",
       "  <thead>\n",
       "    <tr style=\"text-align: right;\">\n",
       "      <th></th>\n",
       "      <th>Offense charged</th>\n",
       "      <th>Total_Race</th>\n",
       "      <th>White</th>\n",
       "      <th>Black</th>\n",
       "      <th>Indian</th>\n",
       "      <th>Asian</th>\n",
       "      <th>Islander</th>\n",
       "      <th>Total_Ethnicity</th>\n",
       "      <th>HorL</th>\n",
       "      <th>Not_HorL</th>\n",
       "    </tr>\n",
       "  </thead>\n",
       "  <tbody>\n",
       "    <tr>\n",
       "      <th>0</th>\n",
       "      <td>TOTAL</td>\n",
       "      <td>674,820</td>\n",
       "      <td>419,393</td>\n",
       "      <td>234,092</td>\n",
       "      <td>11,509</td>\n",
       "      <td>7,424</td>\n",
       "      <td>2,402</td>\n",
       "      <td>496,233</td>\n",
       "      <td>113,244</td>\n",
       "      <td>382,989</td>\n",
       "    </tr>\n",
       "    <tr>\n",
       "      <th>1</th>\n",
       "      <td>Murder and nonnegligent manslaughter</td>\n",
       "      <td>679</td>\n",
       "      <td>244</td>\n",
       "      <td>413</td>\n",
       "      <td>9</td>\n",
       "      <td>11</td>\n",
       "      <td>2</td>\n",
       "      <td>416</td>\n",
       "      <td>103</td>\n",
       "      <td>313</td>\n",
       "    </tr>\n",
       "    <tr>\n",
       "      <th>2</th>\n",
       "      <td>Rape3</td>\n",
       "      <td>2,900</td>\n",
       "      <td>1,877</td>\n",
       "      <td>956</td>\n",
       "      <td>23</td>\n",
       "      <td>31</td>\n",
       "      <td>13</td>\n",
       "      <td>2,137</td>\n",
       "      <td>455</td>\n",
       "      <td>1,682</td>\n",
       "    </tr>\n",
       "    <tr>\n",
       "      <th>3</th>\n",
       "      <td>Robbery</td>\n",
       "      <td>15,293</td>\n",
       "      <td>4,468</td>\n",
       "      <td>10,520</td>\n",
       "      <td>94</td>\n",
       "      <td>139</td>\n",
       "      <td>72</td>\n",
       "      <td>11,254</td>\n",
       "      <td>2,462</td>\n",
       "      <td>8,792</td>\n",
       "    </tr>\n",
       "    <tr>\n",
       "      <th>4</th>\n",
       "      <td>Aggravated assault</td>\n",
       "      <td>22,217</td>\n",
       "      <td>12,086</td>\n",
       "      <td>9,486</td>\n",
       "      <td>350</td>\n",
       "      <td>223</td>\n",
       "      <td>72</td>\n",
       "      <td>17,438</td>\n",
       "      <td>4,600</td>\n",
       "      <td>12,838</td>\n",
       "    </tr>\n",
       "  </tbody>\n",
       "</table>\n",
       "</div>"
      ],
      "text/plain": [
       "                        Offense charged Total_Race    White    Black  Indian  \\\n",
       "0                                 TOTAL    674,820  419,393  234,092  11,509   \n",
       "1  Murder and nonnegligent manslaughter        679      244      413       9   \n",
       "2                                 Rape3      2,900    1,877      956      23   \n",
       "3                               Robbery     15,293    4,468   10,520      94   \n",
       "4                    Aggravated assault     22,217   12,086    9,486     350   \n",
       "\n",
       "   Asian Islander Total_Ethnicity     HorL Not_HorL  \n",
       "0  7,424    2,402         496,233  113,244  382,989  \n",
       "1     11        2             416      103      313  \n",
       "2     31       13           2,137      455    1,682  \n",
       "3    139       72          11,254    2,462    8,792  \n",
       "4    223       72          17,438    4,600   12,838  "
      ]
     },
     "metadata": {},
     "output_type": "display_data"
    },
    {
     "data": {
      "text/html": [
       "<div>\n",
       "<style scoped>\n",
       "    .dataframe tbody tr th:only-of-type {\n",
       "        vertical-align: middle;\n",
       "    }\n",
       "\n",
       "    .dataframe tbody tr th {\n",
       "        vertical-align: top;\n",
       "    }\n",
       "\n",
       "    .dataframe thead th {\n",
       "        text-align: right;\n",
       "    }\n",
       "</style>\n",
       "<table border=\"1\" class=\"dataframe\">\n",
       "  <thead>\n",
       "    <tr style=\"text-align: right;\">\n",
       "      <th></th>\n",
       "      <th>Offense charged</th>\n",
       "      <th>Total_Race</th>\n",
       "      <th>White</th>\n",
       "      <th>Black</th>\n",
       "      <th>Indian</th>\n",
       "      <th>Asian</th>\n",
       "      <th>Islander</th>\n",
       "      <th>Total_Ethnicity</th>\n",
       "      <th>HorL\\n</th>\n",
       "      <th>Not_HorL</th>\n",
       "    </tr>\n",
       "  </thead>\n",
       "  <tbody>\n",
       "    <tr>\n",
       "      <th>0</th>\n",
       "      <td>Murder and nonnegligent manslaughter</td>\n",
       "      <td>8,695</td>\n",
       "      <td>3,948</td>\n",
       "      <td>4,522</td>\n",
       "      <td>99</td>\n",
       "      <td>98</td>\n",
       "      <td>28</td>\n",
       "      <td>6,466</td>\n",
       "      <td>1,271</td>\n",
       "      <td>5,195</td>\n",
       "    </tr>\n",
       "    <tr>\n",
       "      <th>1</th>\n",
       "      <td>Rape3</td>\n",
       "      <td>15,706</td>\n",
       "      <td>10,694</td>\n",
       "      <td>4,456</td>\n",
       "      <td>210</td>\n",
       "      <td>278</td>\n",
       "      <td>68</td>\n",
       "      <td>11,759</td>\n",
       "      <td>3,303</td>\n",
       "      <td>8,456</td>\n",
       "    </tr>\n",
       "    <tr>\n",
       "      <th>2</th>\n",
       "      <td>Robbery</td>\n",
       "      <td>60,974</td>\n",
       "      <td>28,627</td>\n",
       "      <td>31,042</td>\n",
       "      <td>569</td>\n",
       "      <td>520</td>\n",
       "      <td>216</td>\n",
       "      <td>48,862</td>\n",
       "      <td>10,195</td>\n",
       "      <td>38,667</td>\n",
       "    </tr>\n",
       "    <tr>\n",
       "      <th>3</th>\n",
       "      <td>Aggravated assault</td>\n",
       "      <td>282,409</td>\n",
       "      <td>179,119</td>\n",
       "      <td>91,946</td>\n",
       "      <td>6,024</td>\n",
       "      <td>4,455</td>\n",
       "      <td>865</td>\n",
       "      <td>233,324</td>\n",
       "      <td>56,473</td>\n",
       "      <td>176,851</td>\n",
       "    </tr>\n",
       "    <tr>\n",
       "      <th>4</th>\n",
       "      <td>Burglary</td>\n",
       "      <td>139,281</td>\n",
       "      <td>98,615</td>\n",
       "      <td>37,385</td>\n",
       "      <td>1,262</td>\n",
       "      <td>1,623</td>\n",
       "      <td>396</td>\n",
       "      <td>112,619</td>\n",
       "      <td>22,239</td>\n",
       "      <td>90,380</td>\n",
       "    </tr>\n",
       "  </tbody>\n",
       "</table>\n",
       "</div>"
      ],
      "text/plain": [
       "                        Offense charged Total_Race    White   Black Indian  \\\n",
       "0  Murder and nonnegligent manslaughter      8,695    3,948   4,522     99   \n",
       "1                                 Rape3     15,706   10,694   4,456    210   \n",
       "2                               Robbery     60,974   28,627  31,042    569   \n",
       "3                    Aggravated assault    282,409  179,119  91,946  6,024   \n",
       "4                              Burglary    139,281   98,615  37,385  1,262   \n",
       "\n",
       "   Asian Islander Total_Ethnicity  HorL\\n Not_HorL  \n",
       "0     98       28           6,466   1,271    5,195  \n",
       "1    278       68          11,759   3,303    8,456  \n",
       "2    520      216          48,862  10,195   38,667  \n",
       "3  4,455      865         233,324  56,473  176,851  \n",
       "4  1,623      396         112,619  22,239   90,380  "
      ]
     },
     "metadata": {},
     "output_type": "display_data"
    },
    {
     "data": {
      "text/html": [
       "<div>\n",
       "<style scoped>\n",
       "    .dataframe tbody tr th:only-of-type {\n",
       "        vertical-align: middle;\n",
       "    }\n",
       "\n",
       "    .dataframe tbody tr th {\n",
       "        vertical-align: top;\n",
       "    }\n",
       "\n",
       "    .dataframe thead th {\n",
       "        text-align: right;\n",
       "    }\n",
       "</style>\n",
       "<table border=\"1\" class=\"dataframe\">\n",
       "  <thead>\n",
       "    <tr style=\"text-align: right;\">\n",
       "      <th></th>\n",
       "      <th>Offense charged</th>\n",
       "      <th>Total_Race</th>\n",
       "      <th>White</th>\n",
       "      <th>Black</th>\n",
       "      <th>Indian</th>\n",
       "      <th>Asian</th>\n",
       "      <th>Islander</th>\n",
       "      <th>Total_Ethnicity</th>\n",
       "      <th>HorL</th>\n",
       "      <th>Not_HorL</th>\n",
       "    </tr>\n",
       "  </thead>\n",
       "  <tbody>\n",
       "    <tr>\n",
       "      <th>0</th>\n",
       "      <td>Murder and nonnegligent manslaughter</td>\n",
       "      <td>9,374</td>\n",
       "      <td>4,192</td>\n",
       "      <td>4,935</td>\n",
       "      <td>108</td>\n",
       "      <td>109</td>\n",
       "      <td>30</td>\n",
       "      <td>6,882</td>\n",
       "      <td>1,374</td>\n",
       "      <td>5,508</td>\n",
       "    </tr>\n",
       "    <tr>\n",
       "      <th>1</th>\n",
       "      <td>Rape3</td>\n",
       "      <td>18,606</td>\n",
       "      <td>12,571</td>\n",
       "      <td>5,412</td>\n",
       "      <td>233</td>\n",
       "      <td>309</td>\n",
       "      <td>81</td>\n",
       "      <td>13,896</td>\n",
       "      <td>3,758</td>\n",
       "      <td>10,138</td>\n",
       "    </tr>\n",
       "    <tr>\n",
       "      <th>2</th>\n",
       "      <td>Robbery</td>\n",
       "      <td>76,267</td>\n",
       "      <td>33,095</td>\n",
       "      <td>41,562</td>\n",
       "      <td>663</td>\n",
       "      <td>659</td>\n",
       "      <td>288</td>\n",
       "      <td>60,116</td>\n",
       "      <td>12,657</td>\n",
       "      <td>47,459</td>\n",
       "    </tr>\n",
       "    <tr>\n",
       "      <th>3</th>\n",
       "      <td>Aggravated assault</td>\n",
       "      <td>304,626</td>\n",
       "      <td>191,205</td>\n",
       "      <td>101,432</td>\n",
       "      <td>6,374</td>\n",
       "      <td>4,678</td>\n",
       "      <td>937</td>\n",
       "      <td>250,762</td>\n",
       "      <td>61,073</td>\n",
       "      <td>189,689</td>\n",
       "    </tr>\n",
       "    <tr>\n",
       "      <th>4</th>\n",
       "      <td>Burglary</td>\n",
       "      <td>164,641</td>\n",
       "      <td>112,651</td>\n",
       "      <td>47,991</td>\n",
       "      <td>1,613</td>\n",
       "      <td>1,925</td>\n",
       "      <td>461</td>\n",
       "      <td>130,179</td>\n",
       "      <td>27,113</td>\n",
       "      <td>103,066</td>\n",
       "    </tr>\n",
       "  </tbody>\n",
       "</table>\n",
       "</div>"
      ],
      "text/plain": [
       "                        Offense charged Total_Race    White    Black Indian  \\\n",
       "0  Murder and nonnegligent manslaughter      9,374    4,192    4,935    108   \n",
       "1                                 Rape3     18,606   12,571    5,412    233   \n",
       "2                               Robbery     76,267   33,095   41,562    663   \n",
       "3                    Aggravated assault    304,626  191,205  101,432  6,374   \n",
       "4                              Burglary    164,641  112,651   47,991  1,613   \n",
       "\n",
       "   Asian Islander Total_Ethnicity    HorL Not_HorL  \n",
       "0    109       30           6,882   1,374    5,508  \n",
       "1    309       81          13,896   3,758   10,138  \n",
       "2    659      288          60,116  12,657   47,459  \n",
       "3  4,678      937         250,762  61,073  189,689  \n",
       "4  1,925      461         130,179  27,113  103,066  "
      ]
     },
     "metadata": {},
     "output_type": "display_data"
    },
    {
     "data": {
      "text/html": [
       "<div>\n",
       "<style scoped>\n",
       "    .dataframe tbody tr th:only-of-type {\n",
       "        vertical-align: middle;\n",
       "    }\n",
       "\n",
       "    .dataframe tbody tr th {\n",
       "        vertical-align: top;\n",
       "    }\n",
       "\n",
       "    .dataframe thead th {\n",
       "        text-align: right;\n",
       "    }\n",
       "</style>\n",
       "<table border=\"1\" class=\"dataframe\">\n",
       "  <thead>\n",
       "    <tr style=\"text-align: right;\">\n",
       "      <th></th>\n",
       "      <th>Year</th>\n",
       "      <th>Population</th>\n",
       "      <th>ViolentCrime</th>\n",
       "      <th>ViolentCrimeRate</th>\n",
       "      <th>MurderOrMS</th>\n",
       "      <th>MurderOrMSRate</th>\n",
       "      <th>Rape3</th>\n",
       "      <th>Rape3Rate</th>\n",
       "      <th>Rape4</th>\n",
       "      <th>Rape4Rate</th>\n",
       "      <th>...</th>\n",
       "      <th>AggravatedAssault</th>\n",
       "      <th>AggravatedAssaultRate</th>\n",
       "      <th>PropertyCrime</th>\n",
       "      <th>PropertyCrimeRate</th>\n",
       "      <th>Burglary</th>\n",
       "      <th>BurglaryRate</th>\n",
       "      <th>Larceny-theft</th>\n",
       "      <th>Larceny-theftRate</th>\n",
       "      <th>MotorVehicleTheft</th>\n",
       "      <th>MotorVehicleTheftRate</th>\n",
       "    </tr>\n",
       "  </thead>\n",
       "  <tbody>\n",
       "    <tr>\n",
       "      <th>0</th>\n",
       "      <td>1997</td>\n",
       "      <td>267,783,607</td>\n",
       "      <td>1,636,096</td>\n",
       "      <td>611.0</td>\n",
       "      <td>18,208</td>\n",
       "      <td>6.8</td>\n",
       "      <td>0</td>\n",
       "      <td>0.0</td>\n",
       "      <td>96,153</td>\n",
       "      <td>35.9</td>\n",
       "      <td>...</td>\n",
       "      <td>1,023,201</td>\n",
       "      <td>382.1</td>\n",
       "      <td>11,558,475</td>\n",
       "      <td>4,316.30</td>\n",
       "      <td>2,460,526</td>\n",
       "      <td>918.8</td>\n",
       "      <td>7,743,760</td>\n",
       "      <td>2,891.80</td>\n",
       "      <td>1,354,189</td>\n",
       "      <td>505.7</td>\n",
       "    </tr>\n",
       "    <tr>\n",
       "      <th>1</th>\n",
       "      <td>1998</td>\n",
       "      <td>270,248,003</td>\n",
       "      <td>1,533,887</td>\n",
       "      <td>567.6</td>\n",
       "      <td>16,974</td>\n",
       "      <td>6.3</td>\n",
       "      <td>0</td>\n",
       "      <td>0.0</td>\n",
       "      <td>93,144</td>\n",
       "      <td>34.5</td>\n",
       "      <td>...</td>\n",
       "      <td>976,583</td>\n",
       "      <td>361.4</td>\n",
       "      <td>10,951,827</td>\n",
       "      <td>4,052.50</td>\n",
       "      <td>2,332,735</td>\n",
       "      <td>863.2</td>\n",
       "      <td>7,376,311</td>\n",
       "      <td>2,729.50</td>\n",
       "      <td>1,242,781</td>\n",
       "      <td>459.9</td>\n",
       "    </tr>\n",
       "    <tr>\n",
       "      <th>2</th>\n",
       "      <td>1999</td>\n",
       "      <td>272,690,813</td>\n",
       "      <td>1,426,044</td>\n",
       "      <td>523.0</td>\n",
       "      <td>15,522</td>\n",
       "      <td>5.7</td>\n",
       "      <td>0</td>\n",
       "      <td>0.0</td>\n",
       "      <td>89,411</td>\n",
       "      <td>32.8</td>\n",
       "      <td>...</td>\n",
       "      <td>911,740</td>\n",
       "      <td>334.3</td>\n",
       "      <td>10,208,334</td>\n",
       "      <td>3,743.60</td>\n",
       "      <td>2,100,739</td>\n",
       "      <td>770.4</td>\n",
       "      <td>6,955,520</td>\n",
       "      <td>2,550.70</td>\n",
       "      <td>1,152,075</td>\n",
       "      <td>422.5</td>\n",
       "    </tr>\n",
       "    <tr>\n",
       "      <th>3</th>\n",
       "      <td>2000</td>\n",
       "      <td>281,421,906</td>\n",
       "      <td>1,425,486</td>\n",
       "      <td>506.5</td>\n",
       "      <td>15,586</td>\n",
       "      <td>5.5</td>\n",
       "      <td>0</td>\n",
       "      <td>0.0</td>\n",
       "      <td>90,178</td>\n",
       "      <td>32.0</td>\n",
       "      <td>...</td>\n",
       "      <td>911,706</td>\n",
       "      <td>324.0</td>\n",
       "      <td>10,182,584</td>\n",
       "      <td>3,618.30</td>\n",
       "      <td>2,050,992</td>\n",
       "      <td>728.8</td>\n",
       "      <td>6,971,590</td>\n",
       "      <td>2,477.30</td>\n",
       "      <td>1,160,002</td>\n",
       "      <td>412.2</td>\n",
       "    </tr>\n",
       "    <tr>\n",
       "      <th>4</th>\n",
       "      <td>2001</td>\n",
       "      <td>285,317,559</td>\n",
       "      <td>1,439,480</td>\n",
       "      <td>504.5</td>\n",
       "      <td>16,037</td>\n",
       "      <td>5.6</td>\n",
       "      <td>0</td>\n",
       "      <td>0.0</td>\n",
       "      <td>90,863</td>\n",
       "      <td>31.8</td>\n",
       "      <td>...</td>\n",
       "      <td>909,023</td>\n",
       "      <td>318.6</td>\n",
       "      <td>10,437,189</td>\n",
       "      <td>3,658.10</td>\n",
       "      <td>2,116,531</td>\n",
       "      <td>741.8</td>\n",
       "      <td>7,092,267</td>\n",
       "      <td>2,485.70</td>\n",
       "      <td>1,228,391</td>\n",
       "      <td>430.5</td>\n",
       "    </tr>\n",
       "  </tbody>\n",
       "</table>\n",
       "<p>5 rows × 22 columns</p>\n",
       "</div>"
      ],
      "text/plain": [
       "   Year   Population ViolentCrime  ViolentCrimeRate MurderOrMS  \\\n",
       "0  1997  267,783,607    1,636,096             611.0     18,208   \n",
       "1  1998  270,248,003    1,533,887             567.6     16,974   \n",
       "2  1999  272,690,813    1,426,044             523.0     15,522   \n",
       "3  2000  281,421,906    1,425,486             506.5     15,586   \n",
       "4  2001  285,317,559    1,439,480             504.5     16,037   \n",
       "\n",
       "   MurderOrMSRate Rape3  Rape3Rate   Rape4  Rape4Rate  ... AggravatedAssault  \\\n",
       "0             6.8     0        0.0  96,153       35.9  ...         1,023,201   \n",
       "1             6.3     0        0.0  93,144       34.5  ...           976,583   \n",
       "2             5.7     0        0.0  89,411       32.8  ...           911,740   \n",
       "3             5.5     0        0.0  90,178       32.0  ...           911,706   \n",
       "4             5.6     0        0.0  90,863       31.8  ...           909,023   \n",
       "\n",
       "   AggravatedAssaultRate PropertyCrime  PropertyCrimeRate   Burglary  \\\n",
       "0                  382.1    11,558,475           4,316.30  2,460,526   \n",
       "1                  361.4    10,951,827           4,052.50  2,332,735   \n",
       "2                  334.3    10,208,334           3,743.60  2,100,739   \n",
       "3                  324.0    10,182,584           3,618.30  2,050,992   \n",
       "4                  318.6    10,437,189           3,658.10  2,116,531   \n",
       "\n",
       "  BurglaryRate Larceny-theft  Larceny-theftRate MotorVehicleTheft  \\\n",
       "0        918.8     7,743,760           2,891.80         1,354,189   \n",
       "1        863.2     7,376,311           2,729.50         1,242,781   \n",
       "2        770.4     6,955,520           2,550.70         1,152,075   \n",
       "3        728.8     6,971,590           2,477.30         1,160,002   \n",
       "4        741.8     7,092,267           2,485.70         1,228,391   \n",
       "\n",
       "  MotorVehicleTheftRate  \n",
       "0                 505.7  \n",
       "1                 459.9  \n",
       "2                 422.5  \n",
       "3                 412.2  \n",
       "4                 430.5  \n",
       "\n",
       "[5 rows x 22 columns]"
      ]
     },
     "metadata": {},
     "output_type": "display_data"
    }
   ],
   "source": [
    "import pandas as pd\n",
    "import numpy as np\n",
    "import numpy\n",
    "import matplotlib.pyplot as plt\n",
    "import seaborn as sb\n",
    "from sklearn.linear_model import LinearRegression\n",
    "from sklearn.preprocessing import PolynomialFeatures\n",
    "from sklearn.model_selection import train_test_split\n",
    "from scipy.stats import chi2_contingency\n",
    "import seaborn as sns\n",
    "%matplotlib inline\n",
    "\n",
    "age_df = pd.read_csv(\"age.csv\")\n",
    "REU18_df = pd.read_csv(\"Race_Ethnic_Under18.csv\")\n",
    "REO18_df = pd.read_csv(\"Race_Ethnic_Over18.csv\")\n",
    "TotalRE_df = pd.read_csv(\"Total_RE.csv\")\n",
    "USCrime_df = pd.read_csv(\"crimeInUS.csv\")\n",
    "StateCrime_df = pd.read_csv(\"crime_state.csv\")\n",
    "\n",
    "#Ricardo\n",
    "USCrimeR_df = pd.read_csv(\"crimeInUS(Ricardo).csv\")\n",
    "USCrimeR_df = USCrimeR_df.replace(',','', regex=True)\n",
    "StateCrime_df = pd.read_csv(\"crime_state(Ricardo).csv\")\n",
    "\n",
    "#Daisy\n",
    "USCrimeD_df = pd.read_csv(\"crimeInUS-Daisy.csv\")\n",
    "USCrimeD_df = USCrimeD_df.replace(',','', regex=True)\n",
    "USCrimeD_df = USCrimeD_df.astype(float)\n",
    "\n",
    "display(age_df.head(5))\n",
    "display(REU18_df.head(5))\n",
    "display(REO18_df.head(5))\n",
    "display(TotalRE_df.head(5))\n",
    "display(USCrime_df.head(5))"
   ]
  },
  {
   "cell_type": "markdown",
   "id": "d3f58bb4",
   "metadata": {},
   "source": [
    "# Linear Regression (Multiple Regression)\n",
    "Training our data to predict the rate of property crime and violent crime.\n",
    "We train 80% and test 20% of our dataset.\n",
    "We are using Burglary Rate, Larcent-theft Rate and Motor Vechile Theft Rate as factors for Property Crime.\n",
    "We are using Murder/Manslaughter Rate, Robbery Rate and Aggravated Assault Rate as factors for Violent Crime Rate."
   ]
  },
  {
   "cell_type": "code",
   "execution_count": 2,
   "id": "01720a99",
   "metadata": {},
   "outputs": [
    {
     "data": {
      "text/plain": [
       "array([2574.06853353, 2500.47525375, 2450.79328548])"
      ]
     },
     "metadata": {},
     "output_type": "display_data"
    },
    {
     "name": "stdout",
     "output_type": "stream",
     "text": [
      "slope: [1.00025631 0.99969002 1.00086254]\n",
      "intercept: 0.20967983888522213\n",
      "\n",
      "Property Crime Rate using a high burglary and Motor Vehicle theft rate and a low larceny-theft rate: 3169.8404526056834\n",
      "\n",
      "Property Crime Rate using a low burglary and Motor Vehicle theft rate and a high larceny-theft rate: 3597.2377995998577\n"
     ]
    }
   ],
   "source": [
    "USCrime_df = USCrime_df.replace(\",\", \"\", regex = True)\n",
    "\n",
    "USCrime_train = USCrime_df.loc[0:16].copy()\n",
    "USCrime_test = USCrime_df.loc[17:19].copy()\n",
    "\n",
    "X_train = USCrime_train[[\"BurglaryRate\", \"Larceny-theftRate\", \"MotorVehicleTheftRate\"]]\n",
    "X_test = USCrime_test[[\"BurglaryRate\", \"Larceny-theftRate\", \"MotorVehicleTheftRate\"]]\n",
    "y_train = USCrime_train[\"PropertyCrimeRate\"]\n",
    "\n",
    "\n",
    "propertyCrimeModel = LinearRegression()\n",
    "propertyCrimeModel.fit(X=X_train, y=y_train)\n",
    "display(propertyCrimeModel.predict(X=X_test))\n",
    "\n",
    "coef = propertyCrimeModel.coef_\n",
    "intercept = propertyCrimeModel.intercept_\n",
    "\n",
    "y = coef[0]*918.8 + coef[1]*1745 + coef[2]*505.7 + intercept\n",
    "\n",
    "print(\"slope:\", coef)\n",
    "print(\"intercept:\", intercept)\n",
    "print(\"\\nProperty Crime Rate using a high burglary and Motor Vehicle theft rate and a low larceny-theft rate:\", y)\n",
    "\n",
    "y = coef[0]*468.9 + coef[1]*2891.80 + coef[2]*236.9 + intercept\n",
    "\n",
    "print(\"\\nProperty Crime Rate using a low burglary and Motor Vehicle theft rate and a high larceny-theft rate:\", y)"
   ]
  },
  {
   "cell_type": "code",
   "execution_count": 3,
   "id": "0bba7e89",
   "metadata": {},
   "outputs": [
    {
     "data": {
      "text/plain": [
       "array([361.63835529, 374.26019853, 387.64654378])"
      ]
     },
     "metadata": {},
     "output_type": "display_data"
    },
    {
     "name": "stdout",
     "output_type": "stream",
     "text": [
      "slope: [5.10448211 0.93466328 1.03689947]\n",
      "intercept: 6.839885951948645\n",
      "\n",
      "Violent Crime Rate using a high murder/manslaughter and robbery rate and a low aggravated assault rate: 533.8330354764271\n",
      "\n",
      "Violent Crime Rate using a low murder/manslaughter and robbery rate and a high aggravated assault rate: 465.59746166872463\n"
     ]
    }
   ],
   "source": [
    "X_train = USCrime_train[[\"MurderOrMSRate\", \"RobberyRate\", \"AggravatedAssaultRate\"]]\n",
    "X_test = USCrime_test[[\"MurderOrMSRate\", \"RobberyRate\", \"AggravatedAssaultRate\"]]\n",
    "y_train = USCrime_train[\"ViolentCrimeRate\"]\n",
    "\n",
    "\n",
    "violentCrimeModel = LinearRegression()\n",
    "violentCrimeModel.fit(X=X_train, y=y_train)\n",
    "display(violentCrimeModel.predict(X=X_test))\n",
    "\n",
    "coef = violentCrimeModel.coef_\n",
    "intercept = violentCrimeModel.intercept_\n",
    "\n",
    "y = coef[0]*6.8 + coef[1]*102.8 + coef[2]*382.1 + intercept\n",
    "\n",
    "print(\"slope:\", coef)\n",
    "print(\"intercept:\", intercept)\n",
    "print(\"\\nViolent Crime Rate using a high murder/manslaughter and robbery rate and a low aggravated assault rate:\", y)\n",
    "\n",
    "y = coef[0]*5.3 + coef[1]*186.2 + coef[2]*248.5 + intercept\n",
    "\n",
    "print(\"\\nViolent Crime Rate using a low murder/manslaughter and robbery rate and a high aggravated assault rate:\", y)"
   ]
  },
  {
   "cell_type": "code",
   "execution_count": 4,
   "id": "847c642d",
   "metadata": {},
   "outputs": [
    {
     "data": {
      "text/plain": [
       "<AxesSubplot:xlabel='Year'>"
      ]
     },
     "execution_count": 4,
     "metadata": {},
     "output_type": "execute_result"
    },
    {
     "data": {
      "image/png": "[encoded data removed]",
      "text/plain": [
       "<Figure size 432x288 with 1 Axes>"
      ]
     },
     "metadata": {
      "needs_background": "light"
     },
     "output_type": "display_data"
    },
    {
     "data": {
      "image/png": "[encoded data removed]",
      "text/plain": [
       "<Figure size 432x288 with 1 Axes>"
      ]
     },
     "metadata": {
      "needs_background": "light"
     },
     "output_type": "display_data"
    }
   ],
   "source": [
    "USCrime_df.plot.bar(x = \"Year\", y = \"ViolentCrimeRate\")\n",
    "USCrime_df = USCrime_df.astype(float, errors = 'raise')\n",
    "USCrime_df[\"Year\"] = USCrime_df[\"Year\"].astype(int, errors = 'raise')\n",
    "USCrime_df.plot.bar(x = \"Year\", y = \"PropertyCrimeRate\")"
   ]
  },
  {
   "cell_type": "markdown",
   "id": "46a669d6",
   "metadata": {},
   "source": [
    "By looking at the two graphs above you can see both Violent Crime and Property Crime rates have decreased since 1997. Although Property crime rates were slowly decreasing in 2006, Violent Crime rates went slightly up creating a very shallow bell curve in the graph."
   ]
  },
  {
   "cell_type": "code",
   "execution_count": 5,
   "id": "2efa0b37",
   "metadata": {},
   "outputs": [
    {
     "name": "stdout",
     "output_type": "stream",
     "text": [
      "Spearman correlation: 0.962\n"
     ]
    }
   ],
   "source": [
    "cor = pd.crosstab( USCrime_df[\"PropertyCrimeRate\"], USCrime_df[\"ViolentCrimeRate\"])\n",
    "column_1 = USCrime_df[\"PropertyCrimeRate\"]\n",
    "column_2 = USCrime_df[\"ViolentCrimeRate\"]\n",
    "corr = column_1.corr(column_2, method = \"spearman\")\n",
    "print('Spearman correlation: %.3f' % corr)\n"
   ]
  },
  {
   "cell_type": "markdown",
   "id": "5e276bf8",
   "metadata": {},
   "source": [
    "Since spearman's correlation is 0.962 which is close to 1 that means there is a strong correlation between Violent Crime Rates and Property Crime Rates."
   ]
  },
  {
   "cell_type": "markdown",
   "id": "377bf22e",
   "metadata": {},
   "source": [
    "# Correlation between Population and Arrests: A New Hypothesis\n",
    "\n",
    "Below we will attempt to see if there is any correlation between Population and the amount of Arrests made. I hypothesize that with an increase in population, we will see a positive correlation with Arrests."
   ]
  },
  {
   "cell_type": "code",
   "execution_count": 6,
   "id": "6f1299dd",
   "metadata": {},
   "outputs": [
    {
     "data": {
      "text/plain": [
       "<AxesSubplot:title={'center':'Violent Crime by Year in the United States'}, xlabel='Year'>"
      ]
     },
     "execution_count": 6,
     "metadata": {},
     "output_type": "execute_result"
    },
    {
     "data": {
      "image/png": "[encoded data removed]",
      "text/plain": [
       "<Figure size 432x288 with 1 Axes>"
      ]
     },
     "metadata": {
      "needs_background": "light"
     },
     "output_type": "display_data"
    },
    {
     "data": {
      "image/png": "[encoded data removed]",
      "text/plain": [
       "<Figure size 432x288 with 1 Axes>"
      ]
     },
     "metadata": {
      "needs_background": "light"
     },
     "output_type": "display_data"
    }
   ],
   "source": [
    "USCrimeR_df = USCrimeR_df.astype(int)\n",
    "USCrimeR_df_dropYear = USCrimeR_df.drop([\"Year\"], axis=1)\n",
    "USCrimeR_df_dropYear.plot(title=\"Violent Crime by Population in the United States\", y=\"ViolentCrime\", x=\"Population\")\n",
    "\n",
    "USCrimeR_df_dropPop = USCrimeR_df.drop([\"Population\"], axis=1)\n",
    "USCrimeR_df_dropPop.plot(title=\"Violent Crime by Year in the United States\", y=\"ViolentCrime\", x=\"Year\")"
   ]
  },
  {
   "cell_type": "markdown",
   "id": "a2269c6e",
   "metadata": {},
   "source": [
    "Here we have a line graph with the Population on the X-axis and the amount of Violent Crime arrests made on the Y-axis followed by a near exact graph below it with the Year on the X-axis and the amount of Violent Crime arrests made on the Y-axis. This is because the Population is recorded on a given Year and shows that Population increases over time and by my hypothesis so should crime, yet so far it seems that Violent Crime is on a downward trend with some anamolies."
   ]
  },
  {
   "cell_type": "code",
   "execution_count": 7,
   "id": "a75ec5df",
   "metadata": {},
   "outputs": [
    {
     "name": "stdout",
     "output_type": "stream",
     "text": [
      "Spearman correlation: -0.962\n"
     ]
    },
    {
     "data": {
      "image/png": "[encoded data removed]",
      "text/plain": [
       "<Figure size 432x288 with 1 Axes>"
      ]
     },
     "metadata": {
      "needs_background": "light"
     },
     "output_type": "display_data"
    }
   ],
   "source": [
    "USCrimeR_df_dropBoth = USCrimeR_df.drop([\"Population\", \"Year\"], axis=1)\n",
    "USCrimeR_df_dropBoth[\"Total\"] = USCrimeR_df_dropBoth.sum(axis=1)\n",
    "USCrimeR_df[\"Total\"] = USCrimeR_df_dropBoth[\"Total\"]\n",
    "USCrimeR_df.plot.scatter(title=\"Total Arrests in the United States\", y=\"Total\", x=\"Population\")\n",
    "\n",
    "column_1 = USCrimeR_df[\"Population\"]\n",
    "column_2 = USCrimeR_df[\"Total\"]\n",
    "corr = column_1.corr(column_2, method='spearman')\n",
    "print('Spearman correlation: %.3f' % corr)"
   ]
  },
  {
   "cell_type": "markdown",
   "id": "cb9c7714",
   "metadata": {},
   "source": [
    "Here, we have what appears to be definitive proof that there is a strong negative correlation (-0.962) between Population and Crime/Number of Arrests, meaning that as Population increase, number of Arrests decreases. This would imply that my hypothesis was incorrect. However..."
   ]
  },
  {
   "cell_type": "markdown",
   "id": "7097a9b1",
   "metadata": {},
   "source": [
    "# Part of a Larger Story: Correlation between State Population and Arrests\n",
    "\n",
    "Country-wide correlation between Arrests and Population have been on a downward trend, but we always hear that the higher the population, the more crime there is to be expected. Perhaps we can glean more insight by looking deeper into the issue. Below we will look at correlation between State Population and Arrests."
   ]
  },
  {
   "cell_type": "code",
   "execution_count": 8,
   "id": "381bb5a3",
   "metadata": {},
   "outputs": [
    {
     "data": {
      "image/png": "[encoded data removed]",
      "text/plain": [
       "<Figure size 432x288 with 1 Axes>"
      ]
     },
     "metadata": {
      "needs_background": "light"
     },
     "output_type": "display_data"
    }
   ],
   "source": [
    "StateCrime_df = StateCrime_df.replace(',','', regex=True)\n",
    "States_df = StateCrime_df\n",
    "States_df[\"State\"] = States_df[\"State\"].astype('|S80')\n",
    "States_df[\"State\"] = States_df[\"State\"].astype(str)\n",
    "States_df = States_df.replace(\"b'\",'', regex=True)\n",
    "States_df = States_df.replace(\"'\",'', regex=True)\n",
    "StateCrime_df = StateCrime_df.drop(\"State\", axis=1)\n",
    "StateCrime_df = StateCrime_df.astype(int)\n",
    "States_df[\"Total\"] = States_df['Total'].astype(int)\n",
    "States_df[\"Population\"] = States_df['Population'].astype(int)\n",
    "\n",
    "x = StateCrime_df[\"Population\"]\n",
    "y = StateCrime_df[\"Total\"]\n",
    "\n",
    "mymodel = numpy.poly1d(numpy.polyfit(x, y, 3))\n",
    "\n",
    "myline = numpy.linspace(1, 40000000, 40000000)\n",
    "\n",
    "plt.scatter(x, y)\n",
    "plt.plot(myline, mymodel(myline))\n",
    "plt.show()\n",
    "\n",
    "# StateCrime_train = StateCrime_df.loc[2:42].copy()\n",
    "# StateCrime_test = StateCrime_df.loc[43:52].copy()\n",
    "# StateCrime_train.plot.scatter(title=\"Total Arrests per State\", x=\"Population\", y=\"Total\")\n",
    "\n",
    "# X_train = StateCrime_df[[\"Population\"]]\n",
    "# X_test = StateCrime_df[[\"Population\"]]\n",
    "# y_train = StateCrime_df[\"Total\"]\n",
    "\n",
    "# model = LinearRegression()\n",
    "# model.fit(X=X_train, y=y_train)\n",
    "# model.predict(X=X_test)\n",
    "# print(model.predict(X=X_test))\n",
    "# X_new = pd.DataFrame()\n",
    "# # create a sequence of 200 evenly spaced numbers from 10 to 41\n",
    "# X_new[\"Population\"] = np.linspace(0, 40000000, num=200)\n",
    "\n",
    "# # create a Series out of the predicted values\n",
    "# # (trailing underscore indicates fitted values)\n",
    "# y_new_ = pd.Series(\n",
    "#     model.predict(X_new), # y values in Series.plot.line()\n",
    "#     index=X_new[\"Population\"]    # x values in Series.plot.line()\n",
    "# )\n",
    "\n",
    "# # plot the data, then the model\n",
    "# StateCrime_train.plot.scatter(title=\"Total Arrests per State\", x=\"Population\", y=\"Total\")\n",
    "# y_new_.plot.line()\n",
    "# print(y_new_.plot.line())"
   ]
  },
  {
   "cell_type": "markdown",
   "id": "d8772d59",
   "metadata": {},
   "source": [
    "Above is a Polynomial Regression of Population (x-axis) and Arrests (y-axis) and it shows that there is actually an upward trend between arrests and population, implying that the original hypothesis is actually correct. More details on this graph below:"
   ]
  },
  {
   "cell_type": "code",
   "execution_count": 9,
   "id": "8c4bb3b7",
   "metadata": {},
   "outputs": [
    {
     "data": {
      "image/png": "[encoded data removed]",
      "text/plain": [
       "<Figure size 1800x504 with 1 Axes>"
      ]
     },
     "metadata": {
      "needs_background": "light"
     },
     "output_type": "display_data"
    },
    {
     "data": {
      "image/png": "[encoded data removed]",
      "text/plain": [
       "<Figure size 1800x504 with 1 Axes>"
      ]
     },
     "metadata": {
      "needs_background": "light"
     },
     "output_type": "display_data"
    }
   ],
   "source": [
    "plt.rcParams['figure.figsize'] = (25, 7)\n",
    "ax = sns.barplot(x = States_df['State'], y = States_df['Total'], palette = 'dark')\n",
    "ax.set_xlabel(xlabel = 'State', fontsize = 10)\n",
    "ax.set_ylabel(ylabel = 'Total Arrests', fontsize = 10)\n",
    "ax.set_title(label = 'Arrests per State (2016)', fontsize = 20)\n",
    "plt.xticks(rotation = 90)\n",
    "plt.show()\n",
    "\n",
    "plt.rcParams['figure.figsize'] = (25, 7)\n",
    "ax = sns.barplot(x = States_df['State'], y = States_df['Population'], palette = 'dark')\n",
    "ax.set_xlabel(xlabel = 'State', fontsize = 10)\n",
    "ax.set_ylabel(ylabel = 'Population', fontsize = 10)\n",
    "ax.set_title(label = 'Population per State (2016)', fontsize = 20)\n",
    "plt.xticks(rotation = 90)\n",
    "plt.show()"
   ]
  },
  {
   "cell_type": "markdown",
   "id": "f1049f60",
   "metadata": {},
   "source": [
    "Above are 2 bar graphs to help visualize what was not shown in the Polynomial Regression. The first is the amount of Arrests made in each State. The second is the population size in each State. As we can see, the two graphs are almost identical, but careful observation shows us that these are indeed different graphs, but the ratio between crime and population is near 1:1."
   ]
  },
  {
   "cell_type": "code",
   "execution_count": 10,
   "id": "f3019d38",
   "metadata": {},
   "outputs": [
    {
     "name": "stdout",
     "output_type": "stream",
     "text": [
      "Spearman correlation: 0.952\n"
     ]
    }
   ],
   "source": [
    "cor = pd.crosstab( StateCrime_df[\"Total\"], StateCrime_df[\"Population\"])\n",
    "column_1 = StateCrime_df[\"Total\"]\n",
    "column_2 = StateCrime_df[\"Population\"]\n",
    "corr = column_1.corr(column_2, method=\"spearman\")\n",
    "print('Spearman correlation: %.3f' % corr)"
   ]
  },
  {
   "cell_type": "markdown",
   "id": "cf19bf2d",
   "metadata": {},
   "source": [
    "Lastly, the Spearman correlation shows us a strong positive correlation of 0.952.But how can there be a negative trend across the US, but a strong positive trend on the state level?\n",
    "\n",
    "There could be many explanations, but none of which are revealed by the data. For instance, maybe as a country we are looking at a downward trend in crime in general, but population does play a role in crime. Or perhaps fewer arrests are being made nationwide. Currently, we have no way to know for sure."
   ]
  },
  {
   "cell_type": "code",
   "execution_count": null,
   "id": "8c395431-8bfc-4225-8f15-7a3620e99e6b",
   "metadata": {},
   "outputs": [],
   "source": []
  },
  {
   "cell_type": "markdown",
   "id": "90e2cb61-7fa6-4f2a-befd-61e806035e0b",
   "metadata": {},
   "source": [
    "## Correlation between Aggravated Assault and Burglary Rate"
   ]
  },
  {
   "cell_type": "code",
   "execution_count": 16,
   "id": "a2e41702-bbf5-40e9-82a9-9c93e752123a",
   "metadata": {},
   "outputs": [
    {
     "data": {
      "text/plain": [
       "<AxesSubplot:xlabel='Year'>"
      ]
     },
     "execution_count": 16,
     "metadata": {},
     "output_type": "execute_result"
    },
    {
     "data": {
      "image/png": "[encoded data removed]",
      "text/plain": [
       "<Figure size 432x288 with 1 Axes>"
      ]
     },
     "metadata": {
      "needs_background": "light"
     },
     "output_type": "display_data"
    },
    {
     "data": {
      "image/png": "[encoded data removed]",
      "text/plain": [
       "<Figure size 432x288 with 1 Axes>"
      ]
     },
     "metadata": {
      "needs_background": "light"
     },
     "output_type": "display_data"
    }
   ],
   "source": [
    "plt.rcParams['figure.figsize'] = (6, 4)\n",
    "AA_Bur_year = USCrimeD_df[[\"Year\", \"AggravatedAssault\", \"BurglaryRate\"]]\n",
    "USCrimeD_df.plot.bar(x = \"Year\", y = \"AggravatedAssault\")\n",
    "USCrimeD_df.plot.bar(x = \"Year\", y = \"BurglaryRate\")"
   ]
  },
  {
   "cell_type": "markdown",
   "id": "c62ea65b-9f85-4dfa-9da7-88d81b9e2378",
   "metadata": {},
   "source": [
    "By looking at the graph you can see that aggravated assault cases decreased from 1997 - 1999 then were a bit up and down from 1999 - 2013. Aggravated assault then started increasing 2014 onwards. Burglary rate also decreased from 1997 - 1999. However, burglary held pretty steady from 1999 - 2012. During that time you can see that burglary increases and decreases very slightly each year following the same trend as aggravated assault. The difference is that burglary rate start decreasing after 2012."
   ]
  },
  {
   "cell_type": "code",
   "execution_count": 12,
   "id": "5540b74a-170a-468a-b974-268618e6462c",
   "metadata": {},
   "outputs": [
    {
     "name": "stdout",
     "output_type": "stream",
     "text": [
      "Spearman's Correlation\n"
     ]
    },
    {
     "data": {
      "text/html": [
       "<div>\n",
       "<style scoped>\n",
       "    .dataframe tbody tr th:only-of-type {\n",
       "        vertical-align: middle;\n",
       "    }\n",
       "\n",
       "    .dataframe tbody tr th {\n",
       "        vertical-align: top;\n",
       "    }\n",
       "\n",
       "    .dataframe thead th {\n",
       "        text-align: right;\n",
       "    }\n",
       "</style>\n",
       "<table border=\"1\" class=\"dataframe\">\n",
       "  <thead>\n",
       "    <tr style=\"text-align: right;\">\n",
       "      <th></th>\n",
       "      <th>AggravatedAssault</th>\n",
       "      <th>BurglaryRate</th>\n",
       "    </tr>\n",
       "  </thead>\n",
       "  <tbody>\n",
       "    <tr>\n",
       "      <th>AggravatedAssault</th>\n",
       "      <td>1.000000</td>\n",
       "      <td>0.873684</td>\n",
       "    </tr>\n",
       "    <tr>\n",
       "      <th>BurglaryRate</th>\n",
       "      <td>0.873684</td>\n",
       "      <td>1.000000</td>\n",
       "    </tr>\n",
       "  </tbody>\n",
       "</table>\n",
       "</div>"
      ],
      "text/plain": [
       "                   AggravatedAssault  BurglaryRate\n",
       "AggravatedAssault           1.000000      0.873684\n",
       "BurglaryRate                0.873684      1.000000"
      ]
     },
     "execution_count": 12,
     "metadata": {},
     "output_type": "execute_result"
    }
   ],
   "source": [
    "AA_Bur = USCrimeD_df[[\"AggravatedAssault\", \"BurglaryRate\"]]\n",
    "corr1 = AA_Bur.corr(method = 'spearman')\n",
    "print('Spearman\\'s Correlation')\n",
    "corr1"
   ]
  },
  {
   "cell_type": "markdown",
   "id": "900ed7db-ccc0-449f-a3fb-eae5a1bbe97b",
   "metadata": {},
   "source": [
    "Since Spearman's correlation is 0.873684 which is close to 1 that means there is a pretty strong correlation between Aggravated Assault and Burglary Rate.\n"
   ]
  }
 ],
 "metadata": {
  "kernelspec": {
   "display_name": "Python 3",
   "language": "python",
   "name": "python3"
  },
  "language_info": {
   "codemirror_mode": {
    "name": "ipython",
    "version": 3
   },
   "file_extension": ".py",
   "mimetype": "text/x-python",
   "name": "python",
   "nbconvert_exporter": "python",
   "pygments_lexer": "ipython3",
   "version": "3.8.8"
  }
 },
 "nbformat": 4,
 "nbformat_minor": 5
}
