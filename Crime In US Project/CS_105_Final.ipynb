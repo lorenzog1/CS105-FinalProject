{
 "cells": [
  {
   "cell_type": "markdown",
   "id": "4e5b0bcf",
   "metadata": {},
   "source": [
    "# Crime In The US\n",
    "Team 7: Lorenzo Gonzalez, Daisy Cheng, Ricardo Lira, Briana Ortega Vazquez\n",
    "\n",
    "Here we start by reading in our clean datasets in which we renamed some colums and filled in some missing data values.\n",
    "We display the first five rows of the datasets to make sure they are reading in correctly"
   ]
  },
  {
   "cell_type": "code",
   "execution_count": null,
   "id": "3cf9c29e",
   "metadata": {},
   "outputs": [],
   "source": [
    "import pandas as pd\n",
    "import numpy as np\n",
    "import numpy\n",
    "import matplotlib.pyplot as plt\n",
    "import seaborn as sb\n",
    "from sklearn.linear_model import LinearRegression\n",
    "from sklearn.preprocessing import PolynomialFeatures\n",
    "from sklearn.model_selection import train_test_split\n",
    "from scipy.stats import chi2_contingency\n",
    "import seaborn as sns\n",
    "%matplotlib inline\n",
    "\n",
    "USCrime_df = pd.read_csv(\"crimeInUS.csv\")\n",
    "StateCrime_df = pd.read_csv(\"crime_state.csv\")\n",
    "\n",
    "#Ricardo\n",
    "USCrimeR_df = pd.read_csv(\"crimeInUS(Ricardo).csv\")\n",
    "USCrimeR_df = USCrimeR_df.replace(',','', regex=True)\n",
    "StateCrime_df = pd.read_csv(\"crime_state(Ricardo).csv\")\n",
    "\n",
    "#Daisy\n",
    "USCrimeD_df = pd.read_csv(\"crimeInUS-Daisy.csv\")\n",
    "USCrimeD_df = USCrimeD_df.replace(',','', regex=True)\n",
    "USCrimeD_df = USCrimeD_df.astype(float)\n",
    "\n",
    "display(USCrime_df.head(5))\n",
    "display(StateCrime_df.head(5))\n",
    "display(USCrimeR_df.head(5))\n",
    "display(USCrimeD_df.head(5))"
   ]
  },
  {
   "cell_type": "markdown",
   "id": "d3f58bb4",
   "metadata": {},
   "source": [
    "# Linear Regression (Multiple Regression)\n",
    "Training our data to predict the rate of property crime and violent crime.\n",
    "We train 80% and test 20% of our dataset.\n",
    "We are using Burglary Rate, Larcent-theft Rate and Motor Vechile Theft Rate as factors for Property Crime.\n",
    "We are using Murder/Manslaughter Rate, Robbery Rate and Aggravated Assault Rate as factors for Violent Crime Rate."
   ]
  },
  {
   "cell_type": "code",
   "execution_count": null,
   "id": "01720a99",
   "metadata": {},
   "outputs": [],
   "source": [
    "USCrime_df = USCrime_df.replace(\",\", \"\", regex = True)\n",
    "\n",
    "USCrime_train = USCrime_df.loc[0:16].copy()\n",
    "USCrime_test = USCrime_df.loc[17:19].copy()\n",
    "\n",
    "X_train = USCrime_train[[\"BurglaryRate\", \"Larceny-theftRate\", \"MotorVehicleTheftRate\"]]\n",
    "X_test = USCrime_test[[\"BurglaryRate\", \"Larceny-theftRate\", \"MotorVehicleTheftRate\"]]\n",
    "y_train = USCrime_train[\"PropertyCrimeRate\"]\n",
    "\n",
    "\n",
    "propertyCrimeModel = LinearRegression()\n",
    "propertyCrimeModel.fit(X=X_train, y=y_train)\n",
    "display(propertyCrimeModel.predict(X=X_test))\n",
    "\n",
    "coef = propertyCrimeModel.coef_\n",
    "intercept = propertyCrimeModel.intercept_\n",
    "\n",
    "y = coef[0]*918.8 + coef[1]*1745 + coef[2]*505.7 + intercept\n",
    "\n",
    "print(\"slope:\", coef)\n",
    "print(\"intercept:\", intercept)\n",
    "print(\"\\nProperty Crime Rate using a high burglary and Motor Vehicle theft rate and a low larceny-theft rate:\", y)\n",
    "\n",
    "y = coef[0]*468.9 + coef[1]*2891.80 + coef[2]*236.9 + intercept\n",
    "\n",
    "print(\"\\nProperty Crime Rate using a low burglary and Motor Vehicle theft rate and a high larceny-theft rate:\", y)"
   ]
  },
  {
   "cell_type": "code",
   "execution_count": null,
   "id": "0bba7e89",
   "metadata": {},
   "outputs": [],
   "source": [
    "X_train = USCrime_train[[\"MurderOrMSRate\", \"RobberyRate\", \"AggravatedAssaultRate\"]]\n",
    "X_test = USCrime_test[[\"MurderOrMSRate\", \"RobberyRate\", \"AggravatedAssaultRate\"]]\n",
    "y_train = USCrime_train[\"ViolentCrimeRate\"]\n",
    "\n",
    "\n",
    "violentCrimeModel = LinearRegression()\n",
    "violentCrimeModel.fit(X=X_train, y=y_train)\n",
    "display(violentCrimeModel.predict(X=X_test))\n",
    "\n",
    "coef = violentCrimeModel.coef_\n",
    "intercept = violentCrimeModel.intercept_\n",
    "\n",
    "y = coef[0]*6.8 + coef[1]*102.8 + coef[2]*382.1 + intercept\n",
    "\n",
    "print(\"slope:\", coef)\n",
    "print(\"intercept:\", intercept)\n",
    "print(\"\\nViolent Crime Rate using a high murder/manslaughter and robbery rate and a low aggravated assault rate:\", y)\n",
    "\n",
    "y = coef[0]*5.3 + coef[1]*186.2 + coef[2]*248.5 + intercept\n",
    "\n",
    "print(\"\\nViolent Crime Rate using a low murder/manslaughter and robbery rate and a high aggravated assault rate:\", y)"
   ]
  },
  {
   "cell_type": "code",
   "execution_count": null,
   "id": "847c642d",
   "metadata": {},
   "outputs": [],
   "source": [
    "USCrime_df.plot.bar(x = \"Year\", y = \"ViolentCrimeRate\", title = \"Violent Crime Rate Per Year\")\n",
    "USCrime_df = USCrime_df.astype(float, errors = 'raise')\n",
    "USCrime_df[\"Year\"] = USCrime_df[\"Year\"].astype(int, errors = 'raise')\n",
    "USCrime_df.plot.bar(x = \"Year\", y = \"PropertyCrimeRate\",title = \"Property Crime Rate Per Year\")"
   ]
  },
  {
   "cell_type": "markdown",
   "id": "46a669d6",
   "metadata": {},
   "source": [
    "By looking at the two graphs above you can see both Violent Crime and Property Crime rates have decreased since 1997. Although Property crime rates were slowly decreasing in 2006, Violent Crime rates went slightly up creating a very shallow bell curve in the graph."
   ]
  },
  {
   "cell_type": "code",
   "execution_count": null,
   "id": "2efa0b37",
   "metadata": {},
   "outputs": [],
   "source": [
    "cor = pd.crosstab( USCrime_df[\"PropertyCrimeRate\"], USCrime_df[\"ViolentCrimeRate\"])\n",
    "column_1 = USCrime_df[\"PropertyCrimeRate\"]\n",
    "column_2 = USCrime_df[\"ViolentCrimeRate\"]\n",
    "corr = column_1.corr(column_2, method = \"spearman\")\n",
    "print('Spearman correlation: %.3f' % corr)\n"
   ]
  },
  {
   "cell_type": "markdown",
   "id": "5e276bf8",
   "metadata": {},
   "source": [
    "Since spearman's correlation is 0.962 which is close to 1 that means there is a strong correlation between Violent Crime Rates and Property Crime Rates."
   ]
  },
  {
   "cell_type": "markdown",
   "id": "377bf22e",
   "metadata": {},
   "source": [
    "# Correlation between Population and Arrests: A New Hypothesis\n",
    "\n",
    "Below we will attempt to see if there is any correlation between Population and the amount of Arrests made. I hypothesize that with an increase in population, we will see a positive correlation with Arrests."
   ]
  },
  {
   "cell_type": "code",
   "execution_count": null,
   "id": "6f1299dd",
   "metadata": {},
   "outputs": [],
   "source": [
    "USCrimeR_df = USCrimeR_df.astype(int)\n",
    "USCrimeR_df_dropYear = USCrimeR_df.drop([\"Year\"], axis=1)\n",
    "USCrimeR_df_dropYear.plot(title=\"Violent Crime by Population in the United States\", y=\"ViolentCrime\", x=\"Population\")\n",
    "\n",
    "USCrimeR_df_dropPop = USCrimeR_df.drop([\"Population\"], axis=1)\n",
    "USCrimeR_df_dropPop.plot(title=\"Violent Crime by Year in the United States\", y=\"ViolentCrime\", x=\"Year\")"
   ]
  },
  {
   "cell_type": "markdown",
   "id": "a2269c6e",
   "metadata": {},
   "source": [
    "Here we have a line graph with the Population on the X-axis and the amount of Violent Crime arrests made on the Y-axis followed by a near exact graph below it with the Year on the X-axis and the amount of Violent Crime arrests made on the Y-axis. This is because the Population is recorded on a given Year and shows that Population increases over time and by my hypothesis so should crime, yet so far it seems that Violent Crime is on a downward trend with some anamolies."
   ]
  },
  {
   "cell_type": "code",
   "execution_count": null,
   "id": "a75ec5df",
   "metadata": {},
   "outputs": [],
   "source": [
    "USCrimeR_df_dropBoth = USCrimeR_df.drop([\"Population\", \"Year\"], axis=1)\n",
    "USCrimeR_df_dropBoth[\"Total\"] = USCrimeR_df_dropBoth.sum(axis=1)\n",
    "USCrimeR_df[\"Total\"] = USCrimeR_df_dropBoth[\"Total\"]\n",
    "USCrimeR_df.plot.scatter(title=\"Total Arrests in the United States\", y=\"Total\", x=\"Population\")\n",
    "\n",
    "column_1 = USCrimeR_df[\"Population\"]\n",
    "column_2 = USCrimeR_df[\"Total\"]\n",
    "corr = column_1.corr(column_2, method='spearman')\n",
    "print('Spearman correlation: %.3f' % corr)"
   ]
  },
  {
   "cell_type": "markdown",
   "id": "cb9c7714",
   "metadata": {},
   "source": [
    "Here, we have what appears to be definitive proof that there is a strong negative correlation (-0.962) between Population and Crime/Number of Arrests, meaning that as Population increase, number of Arrests decreases. This would imply that my hypothesis was incorrect. However..."
   ]
  },
  {
   "cell_type": "markdown",
   "id": "7097a9b1",
   "metadata": {},
   "source": [
    "# Part of a Larger Story: Correlation between State Population and Arrests\n",
    "\n",
    "Country-wide correlation between Arrests and Population have been on a downward trend, but we always hear that the higher the population, the more crime there is to be expected. Perhaps we can glean more insight by looking deeper into the issue. Below we will look at correlation between State Population and Arrests."
   ]
  },
  {
   "cell_type": "code",
   "execution_count": null,
   "id": "381bb5a3",
   "metadata": {},
   "outputs": [],
   "source": [
    "StateCrime_df = StateCrime_df.replace(',','', regex=True)\n",
    "States_df = StateCrime_df\n",
    "States_df[\"State\"] = States_df[\"State\"].astype('|S80')\n",
    "States_df[\"State\"] = States_df[\"State\"].astype(str)\n",
    "States_df = States_df.replace(\"b'\",'', regex=True)\n",
    "States_df = States_df.replace(\"'\",'', regex=True)\n",
    "StateCrime_df = StateCrime_df.drop(\"State\", axis=1)\n",
    "StateCrime_df = StateCrime_df.astype(int)\n",
    "States_df[\"Total\"] = States_df['Total'].astype(int)\n",
    "States_df[\"Population\"] = States_df['Population'].astype(int)\n",
    "\n",
    "x = StateCrime_df[\"Population\"]\n",
    "y = StateCrime_df[\"Total\"]\n",
    "\n",
    "mymodel = numpy.poly1d(numpy.polyfit(x, y, 3))\n",
    "\n",
    "myline = numpy.linspace(1, 40000000, 40000000)\n",
    "\n",
    "plt.scatter(x, y)\n",
    "plt.plot(myline, mymodel(myline))\n",
    "plt.show()\n",
    "\n",
    "# StateCrime_train = StateCrime_df.loc[2:42].copy()\n",
    "# StateCrime_test = StateCrime_df.loc[43:52].copy()\n",
    "# StateCrime_train.plot.scatter(title=\"Total Arrests per State\", x=\"Population\", y=\"Total\")\n",
    "\n",
    "# X_train = StateCrime_df[[\"Population\"]]\n",
    "# X_test = StateCrime_df[[\"Population\"]]\n",
    "# y_train = StateCrime_df[\"Total\"]\n",
    "\n",
    "# model = LinearRegression()\n",
    "# model.fit(X=X_train, y=y_train)\n",
    "# model.predict(X=X_test)\n",
    "# print(model.predict(X=X_test))\n",
    "# X_new = pd.DataFrame()\n",
    "# # create a sequence of 200 evenly spaced numbers from 10 to 41\n",
    "# X_new[\"Population\"] = np.linspace(0, 40000000, num=200)\n",
    "\n",
    "# # create a Series out of the predicted values\n",
    "# # (trailing underscore indicates fitted values)\n",
    "# y_new_ = pd.Series(\n",
    "#     model.predict(X_new), # y values in Series.plot.line()\n",
    "#     index=X_new[\"Population\"]    # x values in Series.plot.line()\n",
    "# )\n",
    "\n",
    "# # plot the data, then the model\n",
    "# StateCrime_train.plot.scatter(title=\"Total Arrests per State\", x=\"Population\", y=\"Total\")\n",
    "# y_new_.plot.line()\n",
    "# print(y_new_.plot.line())"
   ]
  },
  {
   "cell_type": "markdown",
   "id": "d8772d59",
   "metadata": {},
   "source": [
    "Above is a Polynomial Regression of Population (x-axis) and Arrests (y-axis) and it shows that there is actually an upward trend between arrests and population, implying that the original hypothesis is actually correct. More details on this graph below:"
   ]
  },
  {
   "cell_type": "code",
   "execution_count": null,
   "id": "8c4bb3b7",
   "metadata": {},
   "outputs": [],
   "source": [
    "plt.rcParams['figure.figsize'] = (25, 7)\n",
    "ax = sns.barplot(x = States_df['State'], y = States_df['Total'], palette = 'dark')\n",
    "ax.set_xlabel(xlabel = 'State', fontsize = 10)\n",
    "ax.set_ylabel(ylabel = 'Total Arrests', fontsize = 10)\n",
    "ax.set_title(label = 'Arrests per State (2016)', fontsize = 20)\n",
    "plt.xticks(rotation = 90)\n",
    "plt.show()\n",
    "\n",
    "plt.rcParams['figure.figsize'] = (25, 7)\n",
    "ax = sns.barplot(x = States_df['State'], y = States_df['Population'], palette = 'dark')\n",
    "ax.set_xlabel(xlabel = 'State', fontsize = 10)\n",
    "ax.set_ylabel(ylabel = 'Population', fontsize = 10)\n",
    "ax.set_title(label = 'Population per State (2016)', fontsize = 20)\n",
    "plt.xticks(rotation = 90)\n",
    "plt.show()"
   ]
  },
  {
   "cell_type": "markdown",
   "id": "f1049f60",
   "metadata": {},
   "source": [
    "Above are 2 bar graphs to help visualize what was not shown in the Polynomial Regression. The first is the amount of Arrests made in each State. The second is the population size in each State. As we can see, the two graphs are almost identical, but careful observation shows us that these are indeed different graphs, but the ratio between crime and population is near 1:1."
   ]
  },
  {
   "cell_type": "code",
   "execution_count": null,
   "id": "f3019d38",
   "metadata": {},
   "outputs": [],
   "source": [
    "cor = pd.crosstab( StateCrime_df[\"Total\"], StateCrime_df[\"Population\"])\n",
    "column_1 = StateCrime_df[\"Total\"]\n",
    "column_2 = StateCrime_df[\"Population\"]\n",
    "corr = column_1.corr(column_2, method=\"spearman\")\n",
    "print('Spearman correlation: %.3f' % corr)"
   ]
  },
  {
   "cell_type": "markdown",
   "id": "cf19bf2d",
   "metadata": {},
   "source": [
    "Lastly, the Spearman correlation shows us a strong positive correlation of 0.952.But how can there be a negative trend across the US, but a strong positive trend on the state level?\n",
    "\n",
    "There could be many explanations, but none of which are revealed by the data. For instance, maybe as a country we are looking at a downward trend in crime in general, but population does play a role in crime. Or perhaps fewer arrests are being made nationwide. Currently, we have no way to know for sure."
   ]
  },
  {
   "cell_type": "markdown",
   "id": "90e2cb61-7fa6-4f2a-befd-61e806035e0b",
   "metadata": {},
   "source": [
    "## Correlation between Aggravated Assault and Burglary Rate"
   ]
  },
  {
   "cell_type": "code",
   "execution_count": null,
   "id": "a2e41702-bbf5-40e9-82a9-9c93e752123a",
   "metadata": {},
   "outputs": [],
   "source": [
    "plt.rcParams['figure.figsize'] = (6, 4)\n",
    "AA_Bur_year = USCrimeD_df[[\"Year\", \"AggravatedAssault\", \"BurglaryRate\"]]\n",
    "USCrimeD_df.plot.bar(x = \"Year\", y = \"AggravatedAssault\")\n",
    "USCrimeD_df.plot.bar(x = \"Year\", y = \"BurglaryRate\")"
   ]
  },
  {
   "cell_type": "markdown",
   "id": "c62ea65b-9f85-4dfa-9da7-88d81b9e2378",
   "metadata": {},
   "source": [
    "By looking at the graph you can see that aggravated assault cases decreased from 1997 - 1999 then were a bit up and down from 1999 - 2013. Aggravated assault then started increasing 2014 onwards. Burglary rate also decreased from 1997 - 1999. However, burglary held pretty steady from 1999 - 2012. During that time you can see that burglary increases and decreases very slightly each year following the same trend as aggravated assault. The difference is that burglary rate start decreasing after 2012."
   ]
  },
  {
   "cell_type": "code",
   "execution_count": null,
   "id": "5540b74a-170a-468a-b974-268618e6462c",
   "metadata": {},
   "outputs": [],
   "source": [
    "AA_Bur = USCrimeD_df[[\"AggravatedAssault\", \"BurglaryRate\"]]\n",
    "corr1 = AA_Bur.corr(method = 'spearman')\n",
    "print('Spearman\\'s Correlation')\n",
    "corr1"
   ]
  },
  {
   "cell_type": "markdown",
   "id": "900ed7db-ccc0-449f-a3fb-eae5a1bbe97b",
   "metadata": {},
   "source": [
    "Since Spearman's correlation is 0.873684 which is close to 1 that means there is a pretty strong correlation between Aggravated Assault and Burglary Rate.\n"
   ]
  },
  {
   "cell_type": "markdown",
   "id": "64dbb745",
   "metadata": {},
   "source": [
    "# Growing Transportation and Transportation Related Crime"
   ]
  },
  {
   "cell_type": "markdown",
   "id": "6ee9a2c8",
   "metadata": {},
   "source": [
    "With a growing population, there is a growing amount of new drivers, and with an influx of new drivers, there is a growing demand for cars. If you have ever been to urban cities such as San Francisco, then you know that there is constantly break in and vehicle robberies. Citizens have even gone as far as to put signs on their car windows saying \"Please do not take my car!\" We want to see if in increase in population does indeed lead to an increase in motor vehicle thefts."
   ]
  },
  {
   "cell_type": "code",
   "execution_count": null,
   "id": "d40b2895",
   "metadata": {},
   "outputs": [],
   "source": [
    "USCrime_df.plot(title = \"Population by Year\", y = \"Population\",x = \"Year\" )"
   ]
  },
  {
   "cell_type": "code",
   "execution_count": null,
   "id": "a02a2805",
   "metadata": {},
   "outputs": [],
   "source": [
    "USCrime_df.plot.scatter(title=\"Violent Crime by Population\", y=\"MotorVehicleTheft\", x=\"Population\")"
   ]
  },
  {
   "cell_type": "code",
   "execution_count": null,
   "id": "440d6e43",
   "metadata": {},
   "outputs": [],
   "source": [
    "column_1 = USCrime_df[\"Population\"]\n",
    "column_2 = USCrime_df[\"MotorVehicleTheft\"]\n",
    "corr = column_1.corr(column_2, method = \"spearman\")\n",
    "print('Spearman correlation: %.3f' % corr)"
   ]
  },
  {
   "cell_type": "markdown",
   "id": "26ef8837",
   "metadata": {},
   "source": [
    "Although we see a constant rise in population year to year, we cannot say the same for motor vehicle thefts. In the dot graph, we see that there is a rise in motor vehicle thefts, it quicly goes down, but we do see it go up a bit on the end. Because of this the amounts of motor vehicle thefts per year is inconsistant and unpredictable. When we do the test for Spearman correlation, we get -0.859 meaning there is a very heavy negative correlation between motor vehicle thefts and Population. This means that the exact opposite of our conclusion is happening. As more people popluate the country, according to the Spearman test of correlation."
   ]
  }
 ],
 "metadata": {
  "kernelspec": {
   "display_name": "Python 3",
   "language": "python",
   "name": "python3"
  },
  "language_info": {
   "codemirror_mode": {
    "name": "ipython",
    "version": 3
   },
   "file_extension": ".py",
   "mimetype": "text/x-python",
   "name": "python",
   "nbconvert_exporter": "python",
   "pygments_lexer": "ipython3",
   "version": "3.8.8"
  }
 },
 "nbformat": 4,
 "nbformat_minor": 5
}
